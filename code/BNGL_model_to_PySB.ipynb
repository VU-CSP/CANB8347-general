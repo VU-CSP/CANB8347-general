{
 "cells": [
  {
   "cell_type": "markdown",
   "id": "47932666-53fa-4728-b06a-c37e5e4dd74c",
   "metadata": {},
   "source": [
    "# Test code for converting BNGL to PySB\n",
    "Using Gold team's paper choice: https://www.ncbi.nlm.nih.gov/pmc/articles/PMC6010463/  \n",
    "Reference for importing BNGL model into PySB: https://docs.pysb.org/en/stable/modules/importers/index.html  \n"
   ]
  },
  {
   "cell_type": "code",
   "execution_count": 1,
   "id": "8bf39262-b883-4c61-a17a-c5f0944d27a8",
   "metadata": {
    "tags": []
   },
   "outputs": [],
   "source": [
    "import os\n",
    "from pysb.importers.bngl import model_from_bngl\n",
    "from pysb.tools import render_reactions\n"
   ]
  },
  {
   "cell_type": "code",
   "execution_count": 2,
   "id": "2d9b41c2-cf05-45bc-89ba-8ada855f135b",
   "metadata": {
    "tags": []
   },
   "outputs": [
    {
     "data": {
      "text/plain": [
       "True"
      ]
     },
     "execution_count": 2,
     "metadata": {},
     "output_type": "execute_result"
    }
   ],
   "source": [
    "model_fn = 'MicrotumorModel.bngl'\n",
    "os.path.exists(model_fn)\n"
   ]
  },
  {
   "cell_type": "code",
   "execution_count": 3,
   "id": "f8a09ce9-cfd3-4387-8dc7-0edabc619c7d",
   "metadata": {
    "tags": []
   },
   "outputs": [],
   "source": [
    "model = model_from_bngl(model_fn)"
   ]
  },
  {
   "cell_type": "code",
   "execution_count": 4,
   "id": "9bd2ba5b-618f-4dff-a00f-521eb88fe66a",
   "metadata": {
    "tags": []
   },
   "outputs": [
    {
     "name": "stdout",
     "output_type": "stream",
     "text": [
      "<Model 'MicrotumorModel' (monomers: 13, rules: 26, parameters: 42, expressions: 16, compartments: 0, energypatterns: 0) at 0x7fb258869730>\n"
     ]
    }
   ],
   "source": [
    "print(model)"
   ]
  },
  {
   "cell_type": "code",
   "execution_count": 7,
   "id": "43c98227-0729-41c8-932e-9011c0c027fd",
   "metadata": {
    "tags": []
   },
   "outputs": [
    {
     "data": {
      "text/plain": [
       "ComponentSet([\n",
       " Monomer('INHIBc'),\n",
       " Monomer('INHIBe'),\n",
       " Monomer('INHIBi'),\n",
       " Monomer('INHIBo'),\n",
       " Monomer('Ki67c'),\n",
       " Monomer('Ki67i'),\n",
       " Monomer('Ki67o'),\n",
       " Monomer('NUc'),\n",
       " Monomer('NUi'),\n",
       " Monomer('NUo'),\n",
       " Monomer('PHGDHc'),\n",
       " Monomer('PHGDHi'),\n",
       " Monomer('PHGDHo'),\n",
       " Parameter('NA', 6.02e+23),\n",
       " Parameter('Rcore', 300.0),\n",
       " Parameter('Rinner', 450.0),\n",
       " Parameter('Rspheroid', 600.0),\n",
       " Parameter('NUe', 1000000.0),\n",
       " Parameter('diff', 1.0),\n",
       " Parameter('_rateLaw2', 0.0001),\n",
       " Parameter('_rateLaw6', 0.1),\n",
       " Parameter('_rateLaw7', 0.1),\n",
       " Parameter('_rateLaw8', 0.1),\n",
       " Parameter('_rateLaw9', 0.05),\n",
       " Parameter('_rateLaw10', 0.001),\n",
       " Parameter('_rateLaw11', 0.001),\n",
       " Parameter('_rateLaw12', 0.001),\n",
       " Parameter('_rateLaw13', 0.001),\n",
       " Parameter('_rateLaw14', 0.001),\n",
       " Parameter('_rateLaw15', 0.001),\n",
       " Parameter('_rateLaw18', 1.0),\n",
       " Parameter('_rateLaw19', 1.0),\n",
       " Parameter('_rateLaw20', 1.0),\n",
       " Parameter('_rateLaw21', 0.01),\n",
       " Parameter('_rateLaw22', 0.01),\n",
       " Parameter('_rateLaw23', 0.01),\n",
       " Parameter('_rateLaw24', 0.05),\n",
       " Parameter('_rateLaw25', 0.05),\n",
       " Parameter('_rateLaw26', 0.05),\n",
       " Parameter('_rateLaw27', 0.005),\n",
       " Parameter('_rateLaw28', 0.005),\n",
       " Parameter('_rateLaw29', 0.005),\n",
       " Parameter('NUo_0', 0.0),\n",
       " Parameter('NUi_0', 0.0),\n",
       " Parameter('NUc_0', 0.0),\n",
       " Parameter('PHGDHo_0', 0.0),\n",
       " Parameter('PHGDHi_0', 0.0),\n",
       " Parameter('PHGDHc_0', 0.0),\n",
       " Parameter('Ki67o_0', 0.0),\n",
       " Parameter('Ki67i_0', 0.0),\n",
       " Parameter('Ki67c_0', 0.0),\n",
       " Parameter('INHIBc_0', 0.0),\n",
       " Parameter('INHIBi_0', 0.0),\n",
       " Parameter('INHIBo_0', 0.0),\n",
       " Parameter('INHIBe_0', 0.0),\n",
       " Rule('_R1', None >> NUo(), _rateLaw1),\n",
       " Rule('_R2', NUo() >> None, _rateLaw2),\n",
       " Rule('_R3', NUo() >> PHGDHo(), _rateLaw3),\n",
       " Rule('_R4', NUi() >> PHGDHi(), _rateLaw4),\n",
       " Rule('_R5', NUc() >> PHGDHc(), _rateLaw5),\n",
       " Rule('_R6', NUo() >> Ki67o(), _rateLaw6),\n",
       " Rule('_R7', NUi() >> Ki67i(), _rateLaw7),\n",
       " Rule('_R8', NUc() >> Ki67c(), _rateLaw8),\n",
       " Rule('_R9', NUc() >> INHIBc(), _rateLaw9),\n",
       " Rule('_R10', INHIBc() | INHIBi(), _rateLaw10, _rateLaw11),\n",
       " Rule('_R11', INHIBi() | INHIBo(), _rateLaw12, _rateLaw13),\n",
       " Rule('_R12', INHIBo() | INHIBe(), _rateLaw14, _rateLaw15),\n",
       " Rule('_R13', NUo() | NUi(), diff, diff),\n",
       " Rule('_R14', NUi() | NUc(), _rateLaw16, _rateLaw17),\n",
       " Rule('_R15', PHGDHo() >> NUo() + PHGDHo(), _rateLaw18),\n",
       " Rule('_R16', PHGDHi() >> NUi() + PHGDHi(), _rateLaw19),\n",
       " Rule('_R17', PHGDHc() >> NUc() + PHGDHc(), _rateLaw20),\n",
       " Rule('_R18', Ki67o() >> None, _rateLaw21),\n",
       " Rule('_R19', Ki67i() >> None, _rateLaw22),\n",
       " Rule('_R20', Ki67c() >> None, _rateLaw23),\n",
       " Rule('_R21', PHGDHo() >> None, _rateLaw24),\n",
       " Rule('_R22', PHGDHi() >> None, _rateLaw25),\n",
       " Rule('_R23', PHGDHc() >> None, _rateLaw26),\n",
       " Rule('_R24', INHIBc() >> None, _rateLaw27),\n",
       " Rule('_R25', INHIBi() >> None, _rateLaw28),\n",
       " Rule('_R26', INHIBo() >> None, _rateLaw29),\n",
       " Observable('NU_o', NUo()),\n",
       " Observable('NU_i', NUi()),\n",
       " Observable('NU_c', NUc()),\n",
       " Observable('Ki67_o', Ki67o()),\n",
       " Observable('Ki67_i', Ki67i()),\n",
       " Observable('Ki67_c', Ki67c()),\n",
       " Observable('PHGDH_o', PHGDHo()),\n",
       " Observable('PHGDH_i', PHGDHi()),\n",
       " Observable('PHGDH_c', PHGDHc()),\n",
       " Observable('INHIB_c', INHIBc()),\n",
       " Observable('INHIB_i', INHIBi()),\n",
       " Observable('INHIB_o', INHIBo()),\n",
       " Expression('Vcore', 4.18666666666667*Rcore**3),\n",
       " Expression('Vinner', -4.18666666666667*Rcore**3 + 4.18666666666667*Rinner**3),\n",
       " Expression('Vouter', -4.18666666666667*Rinner**3 + 4.18666666666667*Rspheroid**3),\n",
       " Expression('f_diff', 1/2.25),\n",
       " Expression('_rateLaw1', 1.0e-5*NUe),\n",
       " Expression('_rateLaw16', f_diff*diff),\n",
       " Expression('_rateLaw17', f_diff*diff),\n",
       " Expression('NUp_i', Piecewise((NU_i/NU_o, NU_o > 0), (0, True))),\n",
       " Expression('NUp_c', Piecewise((NU_c/NU_o, NU_o > 0), (0, True))),\n",
       " Expression('Ki67p_i', Piecewise((Ki67_i/Ki67_o, Ki67_o > 0), (1, True))),\n",
       " Expression('Ki67p_c', Piecewise((Ki67_c/Ki67_o, Ki67_o > 0), (1, True))),\n",
       " Expression('PHGDHp_i', Piecewise((PHGDH_i/PHGDH_o, PHGDH_o > 0), (1, True))),\n",
       " Expression('PHGDHp_c', Piecewise((PHGDH_c/PHGDH_o, PHGDH_o > 0), (1, True))),\n",
       " Expression('_rateLaw3', 0.001/(5*INHIB_o + 1)),\n",
       " Expression('_rateLaw4', 0.001/(5*INHIB_i + 1)),\n",
       " Expression('_rateLaw5', 0.001/(5*INHIB_c + 1)),\n",
       " ])"
      ]
     },
     "execution_count": 7,
     "metadata": {},
     "output_type": "execute_result"
    }
   ],
   "source": [
    "model.components"
   ]
  },
  {
   "cell_type": "code",
   "execution_count": 5,
   "id": "0b5d701a-2a76-4779-9071-feba9b5a1727",
   "metadata": {
    "tags": []
   },
   "outputs": [
    {
     "data": {
      "text/plain": [
       "ComponentSet([\n",
       " Parameter('NA', 6.02e+23),\n",
       " Parameter('Rcore', 300.0),\n",
       " Parameter('Rinner', 450.0),\n",
       " Parameter('Rspheroid', 600.0),\n",
       " Parameter('NUe', 1000000.0),\n",
       " Parameter('diff', 1.0),\n",
       " Parameter('_rateLaw2', 0.0001),\n",
       " Parameter('_rateLaw6', 0.1),\n",
       " Parameter('_rateLaw7', 0.1),\n",
       " Parameter('_rateLaw8', 0.1),\n",
       " Parameter('_rateLaw9', 0.05),\n",
       " Parameter('_rateLaw10', 0.001),\n",
       " Parameter('_rateLaw11', 0.001),\n",
       " Parameter('_rateLaw12', 0.001),\n",
       " Parameter('_rateLaw13', 0.001),\n",
       " Parameter('_rateLaw14', 0.001),\n",
       " Parameter('_rateLaw15', 0.001),\n",
       " Parameter('_rateLaw18', 1.0),\n",
       " Parameter('_rateLaw19', 1.0),\n",
       " Parameter('_rateLaw20', 1.0),\n",
       " Parameter('_rateLaw21', 0.01),\n",
       " Parameter('_rateLaw22', 0.01),\n",
       " Parameter('_rateLaw23', 0.01),\n",
       " Parameter('_rateLaw24', 0.05),\n",
       " Parameter('_rateLaw25', 0.05),\n",
       " Parameter('_rateLaw26', 0.05),\n",
       " Parameter('_rateLaw27', 0.005),\n",
       " Parameter('_rateLaw28', 0.005),\n",
       " Parameter('_rateLaw29', 0.005),\n",
       " Parameter('NUo_0', 0.0),\n",
       " Parameter('NUi_0', 0.0),\n",
       " Parameter('NUc_0', 0.0),\n",
       " Parameter('PHGDHo_0', 0.0),\n",
       " Parameter('PHGDHi_0', 0.0),\n",
       " Parameter('PHGDHc_0', 0.0),\n",
       " Parameter('Ki67o_0', 0.0),\n",
       " Parameter('Ki67i_0', 0.0),\n",
       " Parameter('Ki67c_0', 0.0),\n",
       " Parameter('INHIBc_0', 0.0),\n",
       " Parameter('INHIBi_0', 0.0),\n",
       " Parameter('INHIBo_0', 0.0),\n",
       " Parameter('INHIBe_0', 0.0),\n",
       " ])"
      ]
     },
     "execution_count": 5,
     "metadata": {},
     "output_type": "execute_result"
    }
   ],
   "source": [
    "model.parameters"
   ]
  },
  {
   "cell_type": "code",
   "execution_count": 6,
   "id": "c60dc6ac-28ec-464a-82a8-070c5d3d9106",
   "metadata": {
    "tags": []
   },
   "outputs": [
    {
     "data": {
      "text/plain": [
       "ComponentSet([\n",
       " Rule('_R1', None >> NUo(), _rateLaw1),\n",
       " Rule('_R2', NUo() >> None, _rateLaw2),\n",
       " Rule('_R3', NUo() >> PHGDHo(), _rateLaw3),\n",
       " Rule('_R4', NUi() >> PHGDHi(), _rateLaw4),\n",
       " Rule('_R5', NUc() >> PHGDHc(), _rateLaw5),\n",
       " Rule('_R6', NUo() >> Ki67o(), _rateLaw6),\n",
       " Rule('_R7', NUi() >> Ki67i(), _rateLaw7),\n",
       " Rule('_R8', NUc() >> Ki67c(), _rateLaw8),\n",
       " Rule('_R9', NUc() >> INHIBc(), _rateLaw9),\n",
       " Rule('_R10', INHIBc() | INHIBi(), _rateLaw10, _rateLaw11),\n",
       " Rule('_R11', INHIBi() | INHIBo(), _rateLaw12, _rateLaw13),\n",
       " Rule('_R12', INHIBo() | INHIBe(), _rateLaw14, _rateLaw15),\n",
       " Rule('_R13', NUo() | NUi(), diff, diff),\n",
       " Rule('_R14', NUi() | NUc(), _rateLaw16, _rateLaw17),\n",
       " Rule('_R15', PHGDHo() >> NUo() + PHGDHo(), _rateLaw18),\n",
       " Rule('_R16', PHGDHi() >> NUi() + PHGDHi(), _rateLaw19),\n",
       " Rule('_R17', PHGDHc() >> NUc() + PHGDHc(), _rateLaw20),\n",
       " Rule('_R18', Ki67o() >> None, _rateLaw21),\n",
       " Rule('_R19', Ki67i() >> None, _rateLaw22),\n",
       " Rule('_R20', Ki67c() >> None, _rateLaw23),\n",
       " Rule('_R21', PHGDHo() >> None, _rateLaw24),\n",
       " Rule('_R22', PHGDHi() >> None, _rateLaw25),\n",
       " Rule('_R23', PHGDHc() >> None, _rateLaw26),\n",
       " Rule('_R24', INHIBc() >> None, _rateLaw27),\n",
       " Rule('_R25', INHIBi() >> None, _rateLaw28),\n",
       " Rule('_R26', INHIBo() >> None, _rateLaw29),\n",
       " ])"
      ]
     },
     "execution_count": 6,
     "metadata": {},
     "output_type": "execute_result"
    }
   ],
   "source": [
    "model.rules"
   ]
  },
  {
   "cell_type": "code",
   "execution_count": null,
   "id": "e3b6f72c-f326-4ae7-8add-13cbc36e915b",
   "metadata": {},
   "outputs": [],
   "source": []
  }
 ],
 "metadata": {
  "kernelspec": {
   "display_name": "ECM_model",
   "language": "python",
   "name": "ecm_model"
  },
  "language_info": {
   "codemirror_mode": {
    "name": "ipython",
    "version": 3
   },
   "file_extension": ".py",
   "mimetype": "text/x-python",
   "name": "python",
   "nbconvert_exporter": "python",
   "pygments_lexer": "ipython3",
   "version": "3.8.16"
  }
 },
 "nbformat": 4,
 "nbformat_minor": 5
}
