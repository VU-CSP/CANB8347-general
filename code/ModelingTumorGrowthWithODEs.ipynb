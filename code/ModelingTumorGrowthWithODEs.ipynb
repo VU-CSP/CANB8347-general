{
 "cells": [
  {
   "cell_type": "markdown",
   "metadata": {},
   "source": [
    "# Modeling tumor growth with ODEs"
   ]
  },
  {
   "cell_type": "code",
   "execution_count": null,
   "metadata": {},
   "outputs": [],
   "source": [
    "import numpy as np\n",
    "from scipy.integrate import odeint\n",
    "import matplotlib.pyplot as plt\n",
    "\n",
    "# Define ODEs for tumor growth\n",
    "def tumor_growth(N, t, r, K, u):\n",
    "    dNdt = r * N * (1 - N / K) - u * N\n",
    "    return dNdt\n",
    "\n",
    "# Set initial conditions and parameters\n",
    "N0 = 1.0  # Initial tumor size\n",
    "r = 0.1  # Growth rate\n",
    "K = 100.0  # Carrying capacity\n",
    "u = 0.01  # Treatment parameter\n",
    "\n",
    "# Set time points\n",
    "t = np.linspace(0, 100, 1000)\n",
    "\n",
    "# Solve ODEs\n",
    "N = odeint(tumor_growth, N0, t, args=(r, K, u))\n",
    "\n",
    "# Plot the results\n",
    "plt.plot(t, N, label='Tumor Size')\n",
    "plt.xlabel('Time')\n",
    "plt.ylabel('Tumor Size')\n",
    "plt.legend()\n",
    "plt.show()\n"
   ]
  }
 ],
 "metadata": {
  "language_info": {
   "name": "python"
  }
 },
 "nbformat": 4,
 "nbformat_minor": 2
}
