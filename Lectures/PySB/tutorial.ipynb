{
 "cells": [
  {
   "cell_type": "code",
   "execution_count": null,
   "id": "ebd4adf9",
   "metadata": {},
   "outputs": [],
   "source": [
    "from pysb import *\n",
    "from pysb.integrate import Solver\n"
   ]
  },
  {
   "cell_type": "code",
   "execution_count": null,
   "id": "33b2c923",
   "metadata": {},
   "outputs": [],
   "source": [
    "Model()\n",
    "Monomer('A')\n",
    "Parameter('k', 3.0)\n",
    "Rule('synthesize_A', None >> A(), k)\n",
    "t = [0, 10, 20, 30, 40, 50, 60]\n",
    "solver = Solver(model, t)\n",
    "solver.run()\n",
    "print(solver.y[:, 0])"
   ]
  },
  {
   "cell_type": "code",
   "execution_count": null,
   "id": "894cd368",
   "metadata": {},
   "outputs": [],
   "source": [
    "from __future__ import print_function\n",
    "from pysb.simulator import ScipyOdeSimulator\n",
    "from tutorial_a import model\n",
    "\n",
    "t = [0, 10, 20, 30, 40, 50, 60]\n",
    "simulator = ScipyOdeSimulator(model, tspan=t)\n",
    "simresult = simulator.run()\n",
    "print(simresult.species)"
   ]
  },
  {
   "cell_type": "code",
   "execution_count": null,
   "id": "e36dbc51",
   "metadata": {},
   "outputs": [],
   "source": [
    "import mymodel as m"
   ]
  },
  {
   "cell_type": "code",
   "execution_count": null,
   "id": "3985d967",
   "metadata": {},
   "outputs": [],
   "source": [
    "from pysb.simulator import ScipyOdeSimulator\n",
    "import pylab as pl"
   ]
  },
  {
   "cell_type": "code",
   "execution_count": null,
   "id": "2b1b44fc",
   "metadata": {},
   "outputs": [],
   "source": [
    "t = pl.linspace(0, 20000)"
   ]
  },
  {
   "cell_type": "code",
   "execution_count": null,
   "id": "99036951",
   "metadata": {},
   "outputs": [],
   "source": [
    "m.model.observables"
   ]
  },
  {
   "cell_type": "code",
   "execution_count": null,
   "id": "215fbafd",
   "metadata": {},
   "outputs": [],
   "source": [
    "simres = ScipyOdeSimulator(m.model, tspan=t).run()\n",
    "yout = simres.all"
   ]
  },
  {
   "cell_type": "code",
   "execution_count": null,
   "id": "9e6ea05d",
   "metadata": {},
   "outputs": [],
   "source": [
    "pl.ion()\n",
    "pl.figure()\n",
    "pl.plot(t, yout['obsBid'], label=\"Bid\")\n",
    "pl.plot(t, yout['obstBid'], label=\"tBid\")\n",
    "pl.plot(t, yout['obsC8'], label=\"C8\")\n",
    "pl.legend()\n",
    "pl.xlabel(\"Time (s)\")\n",
    "pl.ylabel(\"Molecules/cell\")\n",
    "pl.show()"
   ]
  }
 ],
 "metadata": {
  "kernelspec": {
   "display_name": "ECM_model",
   "language": "python",
   "name": "ecm_model"
  },
  "language_info": {
   "codemirror_mode": {
    "name": "ipython",
    "version": 3
   },
   "file_extension": ".py",
   "mimetype": "text/x-python",
   "name": "python",
   "nbconvert_exporter": "python",
   "pygments_lexer": "ipython3",
   "version": "3.10.9"
  }
 },
 "nbformat": 4,
 "nbformat_minor": 5
}
