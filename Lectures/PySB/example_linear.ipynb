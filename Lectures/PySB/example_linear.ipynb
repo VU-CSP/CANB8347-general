{
 "cells": [
  {
   "cell_type": "code",
   "execution_count": null,
   "id": "920ed338",
   "metadata": {},
   "outputs": [],
   "source": [
    "import synth_deg as sd"
   ]
  },
  {
   "cell_type": "code",
   "execution_count": null,
   "id": "44ed2344",
   "metadata": {},
   "outputs": [],
   "source": [
    "sd.model.observables"
   ]
  },
  {
   "cell_type": "code",
   "execution_count": null,
   "id": "e337df73",
   "metadata": {},
   "outputs": [],
   "source": [
    "from pysb.simulator import ScipyOdeSimulator\n",
    "import pylab as pl"
   ]
  },
  {
   "cell_type": "code",
   "execution_count": null,
   "id": "42fda446",
   "metadata": {},
   "outputs": [],
   "source": [
    "t = pl.linspace(0, 100, 1000)"
   ]
  },
  {
   "cell_type": "code",
   "execution_count": null,
   "id": "018fb102",
   "metadata": {},
   "outputs": [],
   "source": [
    "simres = ScipyOdeSimulator(sd.model, tspan=t, compiler='python').run()\n",
    "yout = simres.all"
   ]
  },
  {
   "cell_type": "code",
   "execution_count": null,
   "id": "81c0ac0c",
   "metadata": {},
   "outputs": [],
   "source": [
    "pl.ion()\n",
    "pl.figure()\n",
    "pl.plot(t, yout['obsR'], label=\"R\")\n",
    "pl.legend()\n",
    "pl.xlabel(\"Time (s)\")\n",
    "pl.ylabel(\"uM\")\n",
    "pl.show()"
   ]
  },
  {
   "cell_type": "code",
   "execution_count": null,
   "id": "55e2ee24",
   "metadata": {},
   "outputs": [],
   "source": [
    "signal = pl.linspace(0,3,7)\n",
    "response = []"
   ]
  },
  {
   "cell_type": "code",
   "execution_count": null,
   "id": "3bab450b",
   "metadata": {},
   "outputs": [],
   "source": [
    "yout['obsR'][-1]"
   ]
  },
  {
   "cell_type": "code",
   "execution_count": null,
   "id": "9a316f08",
   "metadata": {},
   "outputs": [],
   "source": [
    "for s in signal:\n",
    "    sd.model.parameters.S_0.value = s\n",
    "    simres = ScipyOdeSimulator(sd.model, tspan=t, compiler='python').run()\n",
    "    yout = simres.all\n",
    "    response.append(yout['obsR'][-1])"
   ]
  },
  {
   "cell_type": "code",
   "execution_count": null,
   "id": "42a910e0",
   "metadata": {},
   "outputs": [],
   "source": [
    "pl.ion()\n",
    "pl.figure()\n",
    "pl.plot(signal, response, label=\"Linear\")\n",
    "pl.legend()\n",
    "pl.xlabel(\"Signal\")\n",
    "pl.ylabel(\"Response\")\n",
    "pl.show()"
   ]
  }
 ],
 "metadata": {
  "kernelspec": {
   "display_name": "ECM_model",
   "language": "python",
   "name": "ecm_model"
  },
  "language_info": {
   "codemirror_mode": {
    "name": "ipython",
    "version": 3
   },
   "file_extension": ".py",
   "mimetype": "text/x-python",
   "name": "python",
   "nbconvert_exporter": "python",
   "pygments_lexer": "ipython3",
   "version": "3.10.9"
  }
 },
 "nbformat": 4,
 "nbformat_minor": 5
}
